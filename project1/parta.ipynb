{
  "nbformat": 4,
  "nbformat_minor": 0,
  "metadata": {
    "colab": {
      "name": "parta.ipynb",
      "provenance": [],
      "collapsed_sections": [],
      "toc_visible": true,
      "include_colab_link": true
    },
    "kernelspec": {
      "name": "python3",
      "display_name": "Python 3"
    },
    "language_info": {
      "name": "python"
    }
  },
  "cells": [
    {
      "cell_type": "markdown",
      "metadata": {
        "id": "view-in-github",
        "colab_type": "text"
      },
      "source": [
        "<a href=\"https://colab.research.google.com/github/xmrcl0/7600064/blob/main/project1/parta.ipynb\" target=\"_parent\"><img src=\"https://colab.research.google.com/assets/colab-badge.svg\" alt=\"Open In Colab\"/></a>"
      ]
    },
    {
      "cell_type": "markdown",
      "metadata": {
        "id": "E87j0Y_7peMe"
      },
      "source": [
        "# Project 1"
      ]
    },
    {
      "cell_type": "markdown",
      "metadata": {
        "id": "pSWIh5_ppewm"
      },
      "source": [
        "## Part A\n",
        "Read the 20 files provided, each to be treated as the attribute vector of respective object, and perform visualizations as a sequence of values and as histograms. Also obtain some statistics of the values in each file. From the information thus obtained, try to identify groups between the files and propose a possible respective model capable of generating new patterns with characteristics similar to the originals. Compare views and statistics of the original signals and those obtained by the proposed model, checking if they are similar or not. View the two types of modeled signals as well as images in gray levels of 200 X 200 pixels."
      ]
    },
    {
      "cell_type": "code",
      "metadata": {
        "id": "HTFN18MtZKgC"
      },
      "source": [
        "# Read files from github\n",
        "import pandas as pd\n",
        "\n",
        "url = \"https://raw.githubusercontent.com/xmrcl0/7600064/main/project1/data/\"\n",
        "\n",
        "files=['dados_1', 'dados_2', 'dados_3', 'dados_4', 'dados_5',\\\n",
        "       'dados_6', 'dados_7', 'dados_8', 'dados_9', 'dados_10',\\\n",
        "       'dados_11', 'dados_12', 'dados_13', 'dados_14', 'dados_15',\\\n",
        "       'dados_16', 'dados_17', 'dados_18', 'dados_19', 'dados_20']\n",
        "\n",
        "frame = [ pd.read_csv(url + f, delimiter=\" \") for f in files ]\n",
        "frame"
      ],
      "execution_count": null,
      "outputs": []
    },
    {
      "cell_type": "code",
      "metadata": {
        "id": "pWuZ0a7z1KUe"
      },
      "source": [
        "# Create a dataframe with frame\n",
        "df = pd.concat(frame, axis=1)\n",
        "df.head()"
      ],
      "execution_count": null,
      "outputs": []
    },
    {
      "cell_type": "code",
      "metadata": {
        "id": "DYHdjUrn1T0D"
      },
      "source": [
        "# Rename the columns with files names\n",
        "df.columns = files\n",
        "df.head()"
      ],
      "execution_count": null,
      "outputs": []
    },
    {
      "cell_type": "code",
      "metadata": {
        "id": "cnknjauq3iU3"
      },
      "source": [
        "# Show simple statistics for the dataframe\n",
        "df.describe()"
      ],
      "execution_count": null,
      "outputs": []
    },
    {
      "cell_type": "code",
      "metadata": {
        "id": "j92-m2q-DiRC"
      },
      "source": [
        "# Plot bars\n",
        "df['dados_1'].plot(kind='bar')"
      ],
      "execution_count": null,
      "outputs": []
    },
    {
      "cell_type": "code",
      "metadata": {
        "id": "Yr01g_ea1lUS"
      },
      "source": [
        "# Plot histograms \n",
        "df.hist(figsize=(20, 20))"
      ],
      "execution_count": null,
      "outputs": []
    }
  ]
}